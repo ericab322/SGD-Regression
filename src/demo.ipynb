{
 "cells": [
  {
   "cell_type": "code",
   "execution_count": 5,
   "id": "1fef4f47",
   "metadata": {},
   "outputs": [],
   "source": [
    "from sklearn.datasets import load_diabetes\n",
    "from sklearn.model_selection import train_test_split\n",
    "from src.data.generate_synthetic_data import transform_to_polynomial\n",
    "from sklearn.preprocessing import StandardScaler\n",
    "from src.models.regression_model import RegressionModel\n",
    "import pandas as pd"
   ]
  },
  {
   "cell_type": "code",
   "execution_count": null,
   "id": "c4375176",
   "metadata": {},
   "outputs": [],
   "source": [
    "# Load diabetes dataset\n",
    "X, y = load_diabetes(return_X_y=True)\n",
    "X_train, X_test, y_train, y_test = train_test_split(X, y, test_size=0.3, random_state=42)\n",
    "scaler = StandardScaler()\n",
    "X_train = scaler.fit_transform(X_train)\n",
    "X_test = scaler.transform(X_test)\n",
    "model = RegressionModel(X_train, y_train)\n",
    "F_star = model.F(model.w_star)\n"
   ]
  },
  {
   "cell_type": "code",
   "execution_count": 9,
   "id": "3660a624",
   "metadata": {},
   "outputs": [
    {
     "data": {
      "text/plain": [
       "{'model_type': 'regression',\n",
       " 'stepsize_strategy': 'diminishing',\n",
       " 'num_iterations': 10000,\n",
       " 'batch_size': 1,\n",
       " 'hidden_dim': -1,\n",
       " 'test_loss': 26926.496532836198,\n",
       " 'train_loss': 14678.514592223524,\n",
       " 'grad_norm': 31662.26918380692,\n",
       " 'dist_to_opt': 28172.04783014676,\n",
       " 'dataset': 'diabetes',\n",
       " 'experiment': 'linear_fixed',\n",
       " 'F_star': 1462.0231895363197}"
      ]
     },
     "execution_count": 9,
     "metadata": {},
     "output_type": "execute_result"
    }
   ],
   "source": [
    "from src.train import main\n",
    "\n",
    "main(\n",
    "    X_train=X_train,\n",
    "    y_train=y_train,\n",
    "    X_test=X_test,\n",
    "    y_test=y_test,\n",
    "    model_type=\"regression\",\n",
    "    stepsize_strategy=\"diminishing\",   # or \"diminishing\", \"halving\" \n",
    "    num_iterations=10000,\n",
    "    batch_size=1,\n",
    "    log_path=\"results/linear_fixed.csv\",\n",
    "    metadata={\n",
    "        \"dataset\": \"diabetes\",\n",
    "        \"experiment\": \"linear_fixed\",\n",
    "        \"F_star\": F_star\n",
    "    }\n",
    ")\n"
   ]
  }
 ],
 "metadata": {
  "kernelspec": {
   "display_name": "sgd-regression",
   "language": "python",
   "name": "python3"
  },
  "language_info": {
   "codemirror_mode": {
    "name": "ipython",
    "version": 3
   },
   "file_extension": ".py",
   "mimetype": "text/x-python",
   "name": "python",
   "nbconvert_exporter": "python",
   "pygments_lexer": "ipython3",
   "version": "3.10.16"
  }
 },
 "nbformat": 4,
 "nbformat_minor": 5
}
