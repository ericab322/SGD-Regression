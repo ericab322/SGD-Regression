{
 "cells": [
  {
   "cell_type": "code",
   "execution_count": 1,
   "id": "7955822b",
   "metadata": {},
   "outputs": [],
   "source": [
    "import numpy as np\n",
    "from sklearn.utils import shuffle\n",
    "\n",
    "def check_moment_conditions(model, batch_size=1, random_state=0):\n",
    "    np.random.seed(random_state)\n",
    "\n",
    "    # 1. Pick weights (start at initialization)\n",
    "    w = model.initialize_weights()\n",
    "\n",
    "    # 2. Full gradient\n",
    "    full_grad = model.grad_F(w)\n",
    "    grad_norm = np.linalg.norm(full_grad)\n",
    "\n",
    "    # 3. Per-sample gradients\n",
    "    per_sample_grads = np.array([model.grad_f_i(w, i) for i in range(model.m)])\n",
    "\n",
    "    # 4. Mean stochastic gradient\n",
    "    mean_grad = np.mean(per_sample_grads, axis=0)\n",
    "\n",
    "    # --- First moment check ---\n",
    "    bias_norm = np.linalg.norm(mean_grad - full_grad)\n",
    "    rel_bias = bias_norm / (grad_norm + 1e-12)  # relative bias\n",
    "    mu = (full_grad @ mean_grad) / (grad_norm ** 2 + 1e-12)  # alignment\n",
    "    mu_G = np.linalg.norm(mean_grad) / (grad_norm + 1e-12)\n",
    "\n",
    "    # --- Second moment check ---\n",
    "    # Variance for each coordinate\n",
    "    var_coords = np.var(per_sample_grads, axis=0, ddof=1)\n",
    "    var_total = np.mean(np.sum((per_sample_grads - mean_grad)**2, axis=1))\n",
    "\n",
    "    # M and M_V from Bottou's form\n",
    "    M_V = max(0, (var_total - 1e-12) / (grad_norm**2 + 1e-12))\n",
    "    M = var_total - M_V * grad_norm**2\n",
    "    M_G = M_V + mu_G**2\n",
    "\n",
    "    results = {\n",
    "        \"grad_norm\": grad_norm,\n",
    "        \"rel_bias\": rel_bias,\n",
    "        \"mu\": mu,\n",
    "        \"mu_G\": mu_G,\n",
    "        \"M\": M,\n",
    "        \"M_V\": M_V,\n",
    "        \"M_G\": M_G\n",
    "    }\n",
    "    return results\n",
    "\n",
    "# Example usage\n",
    "# from your pipeline:\n",
    "# X, y = load_healthcare_data()\n",
    "# model = RegressionModel(X, y)\n",
    "# moment_results = check_moment_conditions(model)\n",
    "# print(moment_results)\n"
   ]
  },
  {
   "cell_type": "code",
   "execution_count": 2,
   "id": "9bd31e91",
   "metadata": {},
   "outputs": [],
   "source": [
    "from src.data.data_loaders import load_healthcare_data\n",
    "from src.models.regression_model import RegressionModel"
   ]
  },
  {
   "cell_type": "code",
   "execution_count": 3,
   "id": "0e6d1a76",
   "metadata": {},
   "outputs": [
    {
     "name": "stdout",
     "output_type": "stream",
     "text": [
      "{'grad_norm': 0.29217321392010853, 'rel_bias': 3.3320990695774386e-14, 'mu': 0.9999999999882867, 'mu_G': 0.9999999999965786, 'M': 2.3239632440663627e-11, 'M_V': 22.239351752570965, 'M_G': 23.239351752564122}\n"
     ]
    }
   ],
   "source": [
    "X, y = load_healthcare_data()\n",
    "model = RegressionModel(X, y)\n",
    "moment_results = check_moment_conditions(model)\n",
    "print(moment_results)"
   ]
  },
  {
   "cell_type": "code",
   "execution_count": 4,
   "id": "8d2ce7fc",
   "metadata": {},
   "outputs": [
    {
     "name": "stdout",
     "output_type": "stream",
     "text": [
      "Moment results: {'grad_norm': 0.29217321392010853, 'rel_bias': 3.3320990695774386e-14, 'mu': 0.9999999999882867, 'mu_G': 0.9999999999965786, 'M': 2.3239632440663627e-11, 'M_V': 22.239351752570965, 'M_G': 23.239351752564122}\n",
      "Parameter estimator results: {'L': 1.647576769835411, 'c': 0.4609237567459406, 'mu': 0.9999999999882867, 'mu_G': 0.9999999999965786, 'M': 1.4050731901913376, 'M_V': 22.23935175258268, 'M_G': 23.23935175257584}\n"
     ]
    }
   ],
   "source": [
    "from src.utils.parameter_estimator import ParameterEstimator\n",
    "\n",
    "estimator = ParameterEstimator(X, y, model, noise=0.01)\n",
    "params = estimator.estimate_parameters()\n",
    "\n",
    "print(\"Moment results:\", moment_results)\n",
    "print(\"Parameter estimator results:\", {k: float(v) for k, v in params.items()})\n"
   ]
  }
 ],
 "metadata": {
  "kernelspec": {
   "display_name": "sgd-regression",
   "language": "python",
   "name": "python3"
  },
  "language_info": {
   "codemirror_mode": {
    "name": "ipython",
    "version": 3
   },
   "file_extension": ".py",
   "mimetype": "text/x-python",
   "name": "python",
   "nbconvert_exporter": "python",
   "pygments_lexer": "ipython3",
   "version": "3.10.16"
  }
 },
 "nbformat": 4,
 "nbformat_minor": 5
}
