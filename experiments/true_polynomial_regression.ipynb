{
 "cells": [
  {
   "cell_type": "markdown",
   "id": "2ea507e0",
   "metadata": {},
   "source": [
    "# Unfixed Polynomial Regression with SGD\n",
    "\n",
    "This notebook evaluates convergence behavior and generalization performance of SGD on synthetic polynomial data with randomly generated coefficients. We compare our three stepsize strategies — fixed, halving, and diminishing — using both training and test error over 20 randomized trials.\n"
   ]
  },
  {
   "cell_type": "code",
   "execution_count": 5,
   "id": "e931f104",
   "metadata": {},
   "outputs": [],
   "source": [
    "import sys\n",
    "sys.path.append(\"..\") \n",
    "\n",
    "import numpy as np\n",
    "import matplotlib.pyplot as plt\n",
    "from SGD.sgd import SGD\n",
    "from data.generate_synthetic_data import generate_training_data_unfixed\n",
    "from sklearn.model_selection import train_test_split"
   ]
  },
  {
   "cell_type": "markdown",
   "id": "4967f7b4",
   "metadata": {},
   "source": [
    "### Summary of Train/Test Error Over 20 Runs\n",
    "\n",
    "We generate new synthetic data each time and report mean ± std of final losses."
   ]
  },
  {
   "cell_type": "code",
   "execution_count": 6,
   "id": "045259b4",
   "metadata": {},
   "outputs": [
    {
     "ename": "LinAlgError",
     "evalue": "Singular matrix",
     "output_type": "error",
     "traceback": [
      "\u001b[0;31m---------------------------------------------------------------------------\u001b[0m",
      "\u001b[0;31mLinAlgError\u001b[0m                               Traceback (most recent call last)",
      "Cell \u001b[0;32mIn[6], line 15\u001b[0m\n\u001b[1;32m     13\u001b[0m X, y, _ \u001b[38;5;241m=\u001b[39m generate_training_data_unfixed(m\u001b[38;5;241m=\u001b[39mm, n\u001b[38;5;241m=\u001b[39mn, noise\u001b[38;5;241m=\u001b[39mnoise, model_type\u001b[38;5;241m=\u001b[39m\u001b[38;5;124m'\u001b[39m\u001b[38;5;124mpolynomial\u001b[39m\u001b[38;5;124m'\u001b[39m, degree\u001b[38;5;241m=\u001b[39m\u001b[38;5;241m3\u001b[39m)\n\u001b[1;32m     14\u001b[0m X_train, X_test, y_train, y_test \u001b[38;5;241m=\u001b[39m train_test_split(X, y, test_size\u001b[38;5;241m=\u001b[39m\u001b[38;5;241m0.3\u001b[39m)\n\u001b[0;32m---> 15\u001b[0m sgd \u001b[38;5;241m=\u001b[39m \u001b[43mSGD\u001b[49m\u001b[43m(\u001b[49m\u001b[43mX_train\u001b[49m\u001b[43m,\u001b[49m\u001b[43m \u001b[49m\u001b[43my_train\u001b[49m\u001b[43m,\u001b[49m\u001b[43m \u001b[49m\u001b[43mnum_iterations\u001b[49m\u001b[38;5;241;43m=\u001b[39;49m\u001b[38;5;241;43m5000\u001b[39;49m\u001b[43m,\u001b[49m\u001b[43m \u001b[49m\u001b[43mdegree\u001b[49m\u001b[38;5;241;43m=\u001b[39;49m\u001b[43mdegree\u001b[49m\u001b[43m)\u001b[49m\n\u001b[1;32m     17\u001b[0m \u001b[38;5;28;01mfor\u001b[39;00m method \u001b[38;5;129;01min\u001b[39;00m [\u001b[38;5;124m\"\u001b[39m\u001b[38;5;124mfixed\u001b[39m\u001b[38;5;124m\"\u001b[39m, \u001b[38;5;124m\"\u001b[39m\u001b[38;5;124mhalving\u001b[39m\u001b[38;5;124m\"\u001b[39m, \u001b[38;5;124m\"\u001b[39m\u001b[38;5;124mdiminishing\u001b[39m\u001b[38;5;124m\"\u001b[39m]:\n\u001b[1;32m     18\u001b[0m     w, obj, grad, dist \u001b[38;5;241m=\u001b[39m sgd\u001b[38;5;241m.\u001b[39moptimize(stepsize_type\u001b[38;5;241m=\u001b[39mmethod)\n",
      "File \u001b[0;32m~/scie30001/SGD/sgd.py:45\u001b[0m, in \u001b[0;36mSGD.__init__\u001b[0;34m(self, X, y, num_iterations, noise, degree)\u001b[0m\n\u001b[1;32m     42\u001b[0m \u001b[38;5;28mself\u001b[39m\u001b[38;5;241m.\u001b[39mn_model \u001b[38;5;241m=\u001b[39m \u001b[38;5;28mself\u001b[39m\u001b[38;5;241m.\u001b[39mX_model\u001b[38;5;241m.\u001b[39mshape[\u001b[38;5;241m1\u001b[39m]\n\u001b[1;32m     44\u001b[0m \u001b[38;5;28mself\u001b[39m\u001b[38;5;241m.\u001b[39mw \u001b[38;5;241m=\u001b[39m np\u001b[38;5;241m.\u001b[39mzeros(\u001b[38;5;28mself\u001b[39m\u001b[38;5;241m.\u001b[39mn_model)\n\u001b[0;32m---> 45\u001b[0m \u001b[38;5;28mself\u001b[39m\u001b[38;5;241m.\u001b[39mw_star \u001b[38;5;241m=\u001b[39m \u001b[43mnp\u001b[49m\u001b[38;5;241;43m.\u001b[39;49m\u001b[43mlinalg\u001b[49m\u001b[38;5;241;43m.\u001b[39;49m\u001b[43msolve\u001b[49m\u001b[43m(\u001b[49m\u001b[38;5;28;43mself\u001b[39;49m\u001b[38;5;241;43m.\u001b[39;49m\u001b[43mX_model\u001b[49m\u001b[38;5;241;43m.\u001b[39;49m\u001b[43mT\u001b[49m\u001b[43m \u001b[49m\u001b[38;5;241;43m@\u001b[39;49m\u001b[43m \u001b[49m\u001b[38;5;28;43mself\u001b[39;49m\u001b[38;5;241;43m.\u001b[39;49m\u001b[43mX_model\u001b[49m\u001b[43m,\u001b[49m\u001b[43m \u001b[49m\u001b[38;5;28;43mself\u001b[39;49m\u001b[38;5;241;43m.\u001b[39;49m\u001b[43mX_model\u001b[49m\u001b[38;5;241;43m.\u001b[39;49m\u001b[43mT\u001b[49m\u001b[43m \u001b[49m\u001b[38;5;241;43m@\u001b[39;49m\u001b[43m \u001b[49m\u001b[38;5;28;43mself\u001b[39;49m\u001b[38;5;241;43m.\u001b[39;49m\u001b[43my\u001b[49m\u001b[43m)\u001b[49m\n\u001b[1;32m     46\u001b[0m \u001b[38;5;28mself\u001b[39m\u001b[38;5;241m.\u001b[39mF_star \u001b[38;5;241m=\u001b[39m \u001b[38;5;28mself\u001b[39m\u001b[38;5;241m.\u001b[39mF(\u001b[38;5;28mself\u001b[39m\u001b[38;5;241m.\u001b[39mw_star)\n\u001b[1;32m     48\u001b[0m \u001b[38;5;28mself\u001b[39m\u001b[38;5;241m.\u001b[39mL \u001b[38;5;241m=\u001b[39m \u001b[38;5;28mself\u001b[39m\u001b[38;5;241m.\u001b[39mcompute_L()\n",
      "File \u001b[0;32m/opt/anaconda3/envs/sgd-regression/lib/python3.10/site-packages/numpy/linalg/linalg.py:409\u001b[0m, in \u001b[0;36msolve\u001b[0;34m(a, b)\u001b[0m\n\u001b[1;32m    407\u001b[0m signature \u001b[38;5;241m=\u001b[39m \u001b[38;5;124m'\u001b[39m\u001b[38;5;124mDD->D\u001b[39m\u001b[38;5;124m'\u001b[39m \u001b[38;5;28;01mif\u001b[39;00m isComplexType(t) \u001b[38;5;28;01melse\u001b[39;00m \u001b[38;5;124m'\u001b[39m\u001b[38;5;124mdd->d\u001b[39m\u001b[38;5;124m'\u001b[39m\n\u001b[1;32m    408\u001b[0m extobj \u001b[38;5;241m=\u001b[39m get_linalg_error_extobj(_raise_linalgerror_singular)\n\u001b[0;32m--> 409\u001b[0m r \u001b[38;5;241m=\u001b[39m \u001b[43mgufunc\u001b[49m\u001b[43m(\u001b[49m\u001b[43ma\u001b[49m\u001b[43m,\u001b[49m\u001b[43m \u001b[49m\u001b[43mb\u001b[49m\u001b[43m,\u001b[49m\u001b[43m \u001b[49m\u001b[43msignature\u001b[49m\u001b[38;5;241;43m=\u001b[39;49m\u001b[43msignature\u001b[49m\u001b[43m,\u001b[49m\u001b[43m \u001b[49m\u001b[43mextobj\u001b[49m\u001b[38;5;241;43m=\u001b[39;49m\u001b[43mextobj\u001b[49m\u001b[43m)\u001b[49m\n\u001b[1;32m    411\u001b[0m \u001b[38;5;28;01mreturn\u001b[39;00m wrap(r\u001b[38;5;241m.\u001b[39mastype(result_t, copy\u001b[38;5;241m=\u001b[39m\u001b[38;5;28;01mFalse\u001b[39;00m))\n",
      "File \u001b[0;32m/opt/anaconda3/envs/sgd-regression/lib/python3.10/site-packages/numpy/linalg/linalg.py:112\u001b[0m, in \u001b[0;36m_raise_linalgerror_singular\u001b[0;34m(err, flag)\u001b[0m\n\u001b[1;32m    111\u001b[0m \u001b[38;5;28;01mdef\u001b[39;00m \u001b[38;5;21m_raise_linalgerror_singular\u001b[39m(err, flag):\n\u001b[0;32m--> 112\u001b[0m     \u001b[38;5;28;01mraise\u001b[39;00m LinAlgError(\u001b[38;5;124m\"\u001b[39m\u001b[38;5;124mSingular matrix\u001b[39m\u001b[38;5;124m\"\u001b[39m)\n",
      "\u001b[0;31mLinAlgError\u001b[0m: Singular matrix"
     ]
    }
   ],
   "source": [
    "degrees = [1, 2, 3, 4]\n",
    "n_runs = 20\n",
    "noise = 0.01\n",
    "m, n = 100, 2\n",
    "\n",
    "results_summary = {}\n",
    "\n",
    "for degree in degrees:\n",
    "    train_losses = {\"fixed\": [], \"halving\": [], \"diminishing\": []}\n",
    "    test_losses = {\"fixed\": [], \"halving\": [], \"diminishing\": []}\n",
    "    \n",
    "    for run in range(n_runs):\n",
    "        X, y, _ = generate_training_data_unfixed(m=m, n=n, noise=noise, model_type='polynomial', degree=3)\n",
    "        X_train, X_test, y_train, y_test = train_test_split(X, y, test_size=0.3)\n",
    "        sgd = SGD(X_train, y_train, num_iterations=5000, degree=degree)\n",
    "\n",
    "        for method in [\"fixed\", \"halving\", \"diminishing\"]:\n",
    "            w, obj, grad, dist = sgd.optimize(stepsize_type=method)\n",
    "            train_losses[method].append(obj[-1])\n",
    "            X_test_model = sgd.generate_polynomial_features(X_test, degree=degree)\n",
    "            test_pred = X_test_model @ w\n",
    "            test_loss = np.mean((test_pred - y_test) ** 2)\n",
    "            test_losses[method].append(test_loss)\n",
    "\n",
    "    results_summary[degree] = {\"train\": train_losses, \"test\": test_losses}\n",
    "# --- Print summary\n",
    "for degree in degrees:\n",
    "    print(f\"\\nDegree {degree}:\")\n",
    "    for method in [\"fixed\", \"halving\", \"diminishing\"]:\n",
    "        tr = results_summary[degree][\"train\"][method]\n",
    "        te = results_summary[degree][\"test\"][method]\n",
    "        print(f\"{method.capitalize()} Results:\")\n",
    "        print(f\"  Train Loss  - Mean: {np.mean(tr):.4f}, Std: {np.std(tr):.4f}\")\n",
    "        print(f\"  Test Loss   - Mean: {np.mean(te):.4f}, Std: {np.std(te):.4f}\")"
   ]
  },
  {
   "cell_type": "markdown",
   "id": "f5866578",
   "metadata": {},
   "source": []
  },
  {
   "cell_type": "code",
   "execution_count": null,
   "id": "93cedddf",
   "metadata": {},
   "outputs": [],
   "source": [
    "X, y, true_params = generate_training_data_unfixed(m=100, n=2, noise=0.01, model_type='polynomial', degree=3)\n",
    "sgd = SGD(X, y, num_iterations=5000, model_type='polynomial', degree=3)\n",
    "\n",
    "results = {}\n",
    "for method in [\"fixed\", \"halving\", \"diminishing\"]:\n",
    "    w, obj, grad, dist = sgd.optimize(stepsize_type=method)\n",
    "    results[method] = {\n",
    "        \"w\": w,\n",
    "        \"obj\": obj,\n",
    "        \"grad\": grad,\n",
    "        \"dist\": dist\n",
    "    }\n",
    "\n",
    "# Plot: Distance to optimum vs. iteration\n",
    "plt.figure(figsize=(10, 6))\n",
    "for method in results:\n",
    "    plt.plot(results[method][\"dist\"], label=method.capitalize())\n",
    "plt.xlabel(\"Iteration\")\n",
    "plt.ylabel(\"Distance to Optimum\")\n",
    "plt.yscale(\"log\")\n",
    "plt.title(\"Distance to Optimum (Polynomial Regression, Single Run)\")\n",
    "plt.legend()\n",
    "plt.grid(True)\n",
    "plt.tight_layout()\n",
    "plt.show()"
   ]
  },
  {
   "cell_type": "code",
   "execution_count": null,
   "id": "31808ada",
   "metadata": {},
   "outputs": [],
   "source": [
    "plt.figure(figsize=(10, 6))\n",
    "plt.yscale(\"log\")\n",
    "\n",
    "for method in results:\n",
    "    subopt_gap = results[method][\"obj\"] - sgd.F_star\n",
    "    plt.plot(subopt_gap, label=method.capitalize())\n",
    "\n",
    "plt.xlabel(\"Iteration\")\n",
    "plt.ylabel(\"Suboptimality Gap (F(w_k) - F*)\")\n",
    "plt.title(\"Suboptimality Gap vs. Iteration (Linear Regression, Single Run)\")\n",
    "plt.grid(True, which=\"both\", linestyle=\"--\", linewidth=0.5)\n",
    "plt.legend(title=\"Stepsize Strategy\")\n",
    "plt.tight_layout()\n",
    "plt.show()"
   ]
  },
  {
   "cell_type": "code",
   "execution_count": null,
   "id": "194630e3",
   "metadata": {},
   "outputs": [],
   "source": []
  }
 ],
 "metadata": {
  "kernelspec": {
   "display_name": "sgd-regression",
   "language": "python",
   "name": "python3"
  },
  "language_info": {
   "codemirror_mode": {
    "name": "ipython",
    "version": 3
   },
   "file_extension": ".py",
   "mimetype": "text/x-python",
   "name": "python",
   "nbconvert_exporter": "python",
   "pygments_lexer": "ipython3",
   "version": "3.10.16"
  }
 },
 "nbformat": 4,
 "nbformat_minor": 5
}
