{
 "cells": [
  {
   "cell_type": "markdown",
   "id": "69c94bd0",
   "metadata": {},
   "source": [
    "# Cosine Regression on the Sphere with Polynomial SGD\n",
    "This notebook evaluates SGD performance on data generated from the spherical cosine model:\n",
    "$$\n",
    "y = \\cos(\\langle x, u \\rangle) + \\varepsilon\n",
    "$$\n",
    "where $ x \\in \\mathbb{S}^{d-1} \\subset \\mathbb{R}^d $. We examine the generalization and convergence behavior of fixed, halving, and diminishing stepsize strategies when fitting polynomial models to this data."
   ]
  },
  {
   "cell_type": "code",
   "execution_count": null,
   "id": "30470055",
   "metadata": {
    "vscode": {
     "languageId": "plaintext"
    }
   },
   "outputs": [],
   "source": []
  }
 ],
 "metadata": {
  "language_info": {
   "name": "python"
  }
 },
 "nbformat": 4,
 "nbformat_minor": 5
}
