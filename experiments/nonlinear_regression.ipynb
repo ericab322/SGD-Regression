{
 "cells": [
  {
   "cell_type": "markdown",
   "id": "85e90ad3",
   "metadata": {},
   "source": [
    "# Nonlinear (np.cos) Regression with SGD\n",
    "\n",
    "This notebook evaluates convergence behavior and generalization performance of SGD on synthetic cosine experimental data on our linear/polynomial regression model. We compare our three stepsize strategies — fixed, halving, and diminishing — using both training and test error over 20 randomized trials. We can observe how well a linear model class performs with nonlinearly (in this case, cosine) generated data."
   ]
  },
  {
   "cell_type": "code",
   "execution_count": 1,
   "id": "23362014",
   "metadata": {},
   "outputs": [],
   "source": [
    "import sys\n",
    "sys.path.append(\"..\") \n",
    "\n",
    "import numpy as np\n",
    "import matplotlib.pyplot as plt\n",
    "from SGD.sgd import SGD\n",
    "from data.generate_synthetic_data import generate_training_data_unfixed\n",
    "from sklearn.model_selection import train_test_split\n",
    "from sklearn.preprocessing import PolynomialFeatures"
   ]
  },
  {
   "cell_type": "markdown",
   "id": "e163811e",
   "metadata": {},
   "source": [
    "### Summary of Train/Test Error Over 20 Runs\n",
    "\n",
    "We generate new synthetic data each time and report mean ± std of final losses."
   ]
  },
  {
   "cell_type": "code",
   "execution_count": 5,
   "id": "1510d87c",
   "metadata": {},
   "outputs": [
    {
     "ename": "KeyboardInterrupt",
     "evalue": "",
     "output_type": "error",
     "traceback": [
      "\u001b[0;31m---------------------------------------------------------------------------\u001b[0m",
      "\u001b[0;31mKeyboardInterrupt\u001b[0m                         Traceback (most recent call last)",
      "Cell \u001b[0;32mIn[5], line 27\u001b[0m\n\u001b[1;32m     24\u001b[0m sgd \u001b[38;5;241m=\u001b[39m SGD(X_train, y_train, num_iterations\u001b[38;5;241m=\u001b[39m\u001b[38;5;241m5000\u001b[39m, noise\u001b[38;5;241m=\u001b[39mnoise)\n\u001b[1;32m     26\u001b[0m \u001b[38;5;28;01mfor\u001b[39;00m method \u001b[38;5;129;01min\u001b[39;00m [\u001b[38;5;124m\"\u001b[39m\u001b[38;5;124mfixed\u001b[39m\u001b[38;5;124m\"\u001b[39m, \u001b[38;5;124m\"\u001b[39m\u001b[38;5;124mhalving\u001b[39m\u001b[38;5;124m\"\u001b[39m, \u001b[38;5;124m\"\u001b[39m\u001b[38;5;124mdiminishing\u001b[39m\u001b[38;5;124m\"\u001b[39m]:\n\u001b[0;32m---> 27\u001b[0m     w, obj, grad, dist \u001b[38;5;241m=\u001b[39m \u001b[43msgd\u001b[49m\u001b[38;5;241;43m.\u001b[39;49m\u001b[43moptimize\u001b[49m\u001b[43m(\u001b[49m\u001b[43mstepsize_type\u001b[49m\u001b[38;5;241;43m=\u001b[39;49m\u001b[43mmethod\u001b[49m\u001b[43m)\u001b[49m\n\u001b[1;32m     28\u001b[0m     train_losses[method]\u001b[38;5;241m.\u001b[39mappend(obj[\u001b[38;5;241m-\u001b[39m\u001b[38;5;241m1\u001b[39m])\n\u001b[1;32m     30\u001b[0m     test_pred \u001b[38;5;241m=\u001b[39m X_test \u001b[38;5;241m@\u001b[39m w[\u001b[38;5;241m1\u001b[39m:] \u001b[38;5;241m+\u001b[39m w[\u001b[38;5;241m0\u001b[39m]  \u001b[38;5;66;03m# use bias explicitly\u001b[39;00m\n",
      "File \u001b[0;32m~/scie30001/experiments/../SGD/sgd.py:247\u001b[0m, in \u001b[0;36mSGD.optimize\u001b[0;34m(self, stepsize_type, batch_size)\u001b[0m\n\u001b[1;32m    244\u001b[0m g_k \u001b[38;5;241m=\u001b[39m \u001b[38;5;28mself\u001b[39m\u001b[38;5;241m.\u001b[39mmini_batch_grad() \u001b[38;5;28;01mif\u001b[39;00m \u001b[38;5;28mself\u001b[39m\u001b[38;5;241m.\u001b[39mbatch_size \u001b[38;5;241m>\u001b[39m \u001b[38;5;241m1\u001b[39m \u001b[38;5;28;01melse\u001b[39;00m \u001b[38;5;28mself\u001b[39m\u001b[38;5;241m.\u001b[39mstochastic_grad()\n\u001b[1;32m    245\u001b[0m w \u001b[38;5;241m-\u001b[39m\u001b[38;5;241m=\u001b[39m alpha_k \u001b[38;5;241m*\u001b[39m g_k\n\u001b[0;32m--> 247\u001b[0m obj_history\u001b[38;5;241m.\u001b[39mappend(\u001b[38;5;28;43mself\u001b[39;49m\u001b[38;5;241;43m.\u001b[39;49m\u001b[43mF\u001b[49m\u001b[43m(\u001b[49m\u001b[43mw\u001b[49m\u001b[43m)\u001b[49m)\n\u001b[1;32m    248\u001b[0m grad_norm_history\u001b[38;5;241m.\u001b[39mappend(np\u001b[38;5;241m.\u001b[39mlinalg\u001b[38;5;241m.\u001b[39mnorm(\u001b[38;5;28mself\u001b[39m\u001b[38;5;241m.\u001b[39mgrad_F(w)) \u001b[38;5;241m*\u001b[39m\u001b[38;5;241m*\u001b[39m \u001b[38;5;241m2\u001b[39m)\n\u001b[1;32m    249\u001b[0m dist_to_opt_history\u001b[38;5;241m.\u001b[39mappend(np\u001b[38;5;241m.\u001b[39mlinalg\u001b[38;5;241m.\u001b[39mnorm(w \u001b[38;5;241m-\u001b[39m \u001b[38;5;28mself\u001b[39m\u001b[38;5;241m.\u001b[39mw_star) \u001b[38;5;241m*\u001b[39m\u001b[38;5;241m*\u001b[39m \u001b[38;5;241m2\u001b[39m)\n",
      "File \u001b[0;32m~/scie30001/experiments/../SGD/sgd.py:78\u001b[0m, in \u001b[0;36mSGD.F\u001b[0;34m(self, w)\u001b[0m\n\u001b[1;32m     68\u001b[0m \u001b[38;5;28;01mdef\u001b[39;00m \u001b[38;5;21mF\u001b[39m(\u001b[38;5;28mself\u001b[39m, w):\n\u001b[1;32m     69\u001b[0m \u001b[38;5;250m    \u001b[39m\u001b[38;5;124;03m\"\"\"\u001b[39;00m\n\u001b[1;32m     70\u001b[0m \u001b[38;5;124;03m    Computes the total objective (average loss).\u001b[39;00m\n\u001b[1;32m     71\u001b[0m \n\u001b[0;32m   (...)\u001b[0m\n\u001b[1;32m     76\u001b[0m \u001b[38;5;124;03m        Objective value.\u001b[39;00m\n\u001b[1;32m     77\u001b[0m \u001b[38;5;124;03m    \"\"\"\u001b[39;00m\n\u001b[0;32m---> 78\u001b[0m     \u001b[38;5;28;01mreturn\u001b[39;00m (\u001b[38;5;241m1\u001b[39m\u001b[38;5;241m/\u001b[39m\u001b[38;5;28mself\u001b[39m\u001b[38;5;241m.\u001b[39mm) \u001b[38;5;241m*\u001b[39m \u001b[38;5;28;43msum\u001b[39;49m\u001b[43m(\u001b[49m\u001b[38;5;28;43mself\u001b[39;49m\u001b[38;5;241;43m.\u001b[39;49m\u001b[43mf_i\u001b[49m\u001b[43m(\u001b[49m\u001b[43mw\u001b[49m\u001b[43m,\u001b[49m\u001b[43m \u001b[49m\u001b[43mj\u001b[49m\u001b[43m)\u001b[49m\u001b[43m \u001b[49m\u001b[38;5;28;43;01mfor\u001b[39;49;00m\u001b[43m \u001b[49m\u001b[43mj\u001b[49m\u001b[43m \u001b[49m\u001b[38;5;129;43;01min\u001b[39;49;00m\u001b[43m \u001b[49m\u001b[38;5;28;43mrange\u001b[39;49m\u001b[43m(\u001b[49m\u001b[38;5;28;43mself\u001b[39;49m\u001b[38;5;241;43m.\u001b[39;49m\u001b[43mm\u001b[49m\u001b[43m)\u001b[49m\u001b[43m)\u001b[49m\n",
      "File \u001b[0;32m~/scie30001/experiments/../SGD/sgd.py:78\u001b[0m, in \u001b[0;36m<genexpr>\u001b[0;34m(.0)\u001b[0m\n\u001b[1;32m     68\u001b[0m \u001b[38;5;28;01mdef\u001b[39;00m \u001b[38;5;21mF\u001b[39m(\u001b[38;5;28mself\u001b[39m, w):\n\u001b[1;32m     69\u001b[0m \u001b[38;5;250m    \u001b[39m\u001b[38;5;124;03m\"\"\"\u001b[39;00m\n\u001b[1;32m     70\u001b[0m \u001b[38;5;124;03m    Computes the total objective (average loss).\u001b[39;00m\n\u001b[1;32m     71\u001b[0m \n\u001b[0;32m   (...)\u001b[0m\n\u001b[1;32m     76\u001b[0m \u001b[38;5;124;03m        Objective value.\u001b[39;00m\n\u001b[1;32m     77\u001b[0m \u001b[38;5;124;03m    \"\"\"\u001b[39;00m\n\u001b[0;32m---> 78\u001b[0m     \u001b[38;5;28;01mreturn\u001b[39;00m (\u001b[38;5;241m1\u001b[39m\u001b[38;5;241m/\u001b[39m\u001b[38;5;28mself\u001b[39m\u001b[38;5;241m.\u001b[39mm) \u001b[38;5;241m*\u001b[39m \u001b[38;5;28msum\u001b[39m(\u001b[38;5;28;43mself\u001b[39;49m\u001b[38;5;241;43m.\u001b[39;49m\u001b[43mf_i\u001b[49m\u001b[43m(\u001b[49m\u001b[43mw\u001b[49m\u001b[43m,\u001b[49m\u001b[43m \u001b[49m\u001b[43mj\u001b[49m\u001b[43m)\u001b[49m \u001b[38;5;28;01mfor\u001b[39;00m j \u001b[38;5;129;01min\u001b[39;00m \u001b[38;5;28mrange\u001b[39m(\u001b[38;5;28mself\u001b[39m\u001b[38;5;241m.\u001b[39mm))\n",
      "\u001b[0;31mKeyboardInterrupt\u001b[0m: "
     ]
    }
   ],
   "source": [
    "n_runs = 20\n",
    "degrees = [1, 2, 3, 4]\n",
    "noise = 0.01\n",
    "m, n = 100, 1  # Single feature for nonlinear\n",
    "\n",
    "results_summary = {}\n",
    "\n",
    "for degree in degrees:\n",
    "    train_losses = {\"fixed\": [], \"halving\": [], \"diminishing\": []}\n",
    "    test_losses = {\"fixed\": [], \"halving\": [], \"diminishing\": []}\n",
    "\n",
    "    for run in range(n_runs):\n",
    "        X, y, _ = generate_training_data_unfixed(\n",
    "            m=m, n=n, noise=noise, model_type='nonlinear', nonlinear_func=np.cos\n",
    "        )\n",
    "        X_train_raw, X_test_raw, y_train, y_test = train_test_split(X, y, test_size=0.3)\n",
    "\n",
    "        poly = PolynomialFeatures(degree=degree, include_bias=False)\n",
    "        X_train = poly.fit_transform(X_train_raw)\n",
    "        X_test = poly.transform(X_test_raw)\n",
    "        X_train /= np.max(np.abs(X_train), axis=0)\n",
    "        X_test /= np.max(np.abs(X_test), axis=0)\n",
    "\n",
    "        sgd = SGD(X_train, y_train, num_iterations=5000, noise=noise)\n",
    "\n",
    "        for method in [\"fixed\", \"halving\", \"diminishing\"]:\n",
    "            w, obj, grad, dist = sgd.optimize(stepsize_type=method)\n",
    "            train_losses[method].append(obj[-1])\n",
    "\n",
    "            test_pred = X_test @ w[1:] + w[0]  # use bias explicitly\n",
    "            test_loss = np.mean((test_pred - y_test) ** 2)\n",
    "            test_losses[method].append(test_loss)\n",
    "\n",
    "    results_summary[degree] = {\"train\": train_losses, \"test\": test_losses}\n",
    "\n",
    "# --- Print summary\n",
    "for degree in degrees:\n",
    "    print(f\"\\nDegree {degree}:\")\n",
    "    for method in [\"fixed\", \"halving\", \"diminishing\"]:\n",
    "        tr = results_summary[degree][\"train\"][method]\n",
    "        te = results_summary[degree][\"test\"][method]\n",
    "        print(f\"{method.capitalize()} Results:\")\n",
    "        print(f\"  Train Loss  - Mean: {np.mean(tr):.4f}, Std: {np.std(tr):.4f}\")\n",
    "        print(f\"  Test Loss   - Mean: {np.mean(te):.4f}, Std: {np.std(te):.4f}\")"
   ]
  }
 ],
 "metadata": {
  "kernelspec": {
   "display_name": "sgd-regression",
   "language": "python",
   "name": "python3"
  },
  "language_info": {
   "codemirror_mode": {
    "name": "ipython",
    "version": 3
   },
   "file_extension": ".py",
   "mimetype": "text/x-python",
   "name": "python",
   "nbconvert_exporter": "python",
   "pygments_lexer": "ipython3",
   "version": "3.10.16"
  }
 },
 "nbformat": 4,
 "nbformat_minor": 5
}
