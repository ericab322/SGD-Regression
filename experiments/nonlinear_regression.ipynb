{
 "cells": [
  {
   "cell_type": "markdown",
   "id": "85e90ad3",
   "metadata": {},
   "source": [
    "# Nonlinear (np.cos) Regression with SGD\n",
    "\n",
    "This notebook evaluates convergence behavior and generalization performance of SGD on synthetic cosine experimental data on our linear/polynomial regression model. We compare our three stepsize strategies — fixed, halving, and diminishing — using both training and test error over 20 randomized trials. We can observe how well a linear model class performs with nonlinearly (in this case, cosine) generated data."
   ]
  },
  {
   "cell_type": "code",
   "execution_count": 1,
   "id": "23362014",
   "metadata": {},
   "outputs": [],
   "source": [
    "import sys\n",
    "sys.path.append(\"..\") \n",
    "\n",
    "import numpy as np\n",
    "import matplotlib.pyplot as plt\n",
    "from SGD.sgd import SGD\n",
    "from data.generate_synthetic_data import generate_training_data_unfixed\n",
    "from sklearn.model_selection import train_test_split\n",
    "from sklearn.preprocessing import PolynomialFeatures"
   ]
  },
  {
   "cell_type": "markdown",
   "id": "e163811e",
   "metadata": {},
   "source": [
    "### Summary of Train/Test Error Over 20 Runs\n",
    "\n",
    "We generate new synthetic data each time and report mean ± std of final losses."
   ]
  },
  {
   "cell_type": "code",
   "execution_count": null,
   "id": "1510d87c",
   "metadata": {},
   "outputs": [],
   "source": [
    "n_runs = 20\n",
    "degree = 1\n",
    "noise = 0.01\n",
    "m, n = 100, 1\n",
    "\n",
    "train_losses = {\"fixed\": [], \"halving\": [], \"diminishing\": []}\n",
    "test_losses = {\"fixed\": [], \"halving\": [], \"diminishing\": []}\n",
    "\n",
    "for run in range(n_runs):\n",
    "    X, y, _ = generate_training_data_unfixed(\n",
    "        m=m, n=n, noise=noise, model_type='nonlinear', nonlinear_func=np.cos\n",
    "    )\n",
    "    X_train_raw, X_test_raw, y_train, y_test = train_test_split(X, y, test_size=0.3)\n",
    "\n",
    "    poly = PolynomialFeatures(degree=degree, include_bias=False)\n",
    "    X_train = poly.fit_transform(X_train_raw)\n",
    "    X_test = poly.transform(X_test_raw)\n",
    "    X_train /= np.max(np.abs(X_train), axis=0)\n",
    "    X_test /= np.max(np.abs(X_test), axis=0)\n",
    "\n",
    "    sgd = SGD(X_train, y_train, num_iterations=5000, noise=noise)\n",
    "\n",
    "    for method in [\"fixed\", \"halving\", \"diminishing\"]:\n",
    "        w, obj, grad, dist = sgd.optimize(stepsize_type=method)\n",
    "        train_losses[method].append(obj[-1])\n",
    "\n",
    "        test_pred = X_test @ w[1:] + w[0] \n",
    "        test_loss = np.mean((test_pred - y_test) ** 2)\n",
    "        test_losses[method].append(test_loss)"
   ]
  }
 ],
 "metadata": {
  "kernelspec": {
   "display_name": "sgd-regression",
   "language": "python",
   "name": "python3"
  },
  "language_info": {
   "codemirror_mode": {
    "name": "ipython",
    "version": 3
   },
   "file_extension": ".py",
   "mimetype": "text/x-python",
   "name": "python",
   "nbconvert_exporter": "python",
   "pygments_lexer": "ipython3",
   "version": "3.10.16"
  }
 },
 "nbformat": 4,
 "nbformat_minor": 5
}
